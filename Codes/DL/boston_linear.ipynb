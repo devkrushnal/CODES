{
 "cells": [
  {
   "cell_type": "code",
   "execution_count": 8,
   "id": "ee809cc3",
   "metadata": {},
   "outputs": [
    {
     "ename": "ImportError",
     "evalue": "\n`load_boston` has been removed from scikit-learn since version 1.2.\n\nThe Boston housing prices dataset has an ethical problem: as\ninvestigated in [1], the authors of this dataset engineered a\nnon-invertible variable \"B\" assuming that racial self-segregation had a\npositive impact on house prices [2]. Furthermore the goal of the\nresearch that led to the creation of this dataset was to study the\nimpact of air quality but it did not give adequate demonstration of the\nvalidity of this assumption.\n\nThe scikit-learn maintainers therefore strongly discourage the use of\nthis dataset unless the purpose of the code is to study and educate\nabout ethical issues in data science and machine learning.\n\nIn this special case, you can fetch the dataset from the original\nsource::\n\n    import pandas as pd\n    import numpy as np\n\n    data_url = \"http://lib.stat.cmu.edu/datasets/boston\"\n    raw_df = pd.read_csv(data_url, sep=\"\\s+\", skiprows=22, header=None)\n    data = np.hstack([raw_df.values[::2, :], raw_df.values[1::2, :2]])\n    target = raw_df.values[1::2, 2]\n\nAlternative datasets include the California housing dataset and the\nAmes housing dataset. You can load the datasets as follows::\n\n    from sklearn.datasets import fetch_california_housing\n    housing = fetch_california_housing()\n\nfor the California housing dataset and::\n\n    from sklearn.datasets import fetch_openml\n    housing = fetch_openml(name=\"house_prices\", as_frame=True)\n\nfor the Ames housing dataset.\n\n[1] M Carlisle.\n\"Racist data destruction?\"\n<https://medium.com/@docintangible/racist-data-destruction-113e3eff54a8>\n\n[2] Harrison Jr, David, and Daniel L. Rubinfeld.\n\"Hedonic housing prices and the demand for clean air.\"\nJournal of environmental economics and management 5.1 (1978): 81-102.\n<https://www.researchgate.net/publication/4974606_Hedonic_housing_prices_and_the_demand_for_clean_air>\n",
     "output_type": "error",
     "traceback": [
      "\u001b[1;31m---------------------------------------------------------------------------\u001b[0m",
      "\u001b[1;31mImportError\u001b[0m                               Traceback (most recent call last)",
      "Cell \u001b[1;32mIn[8], line 4\u001b[0m\n\u001b[0;32m      1\u001b[0m \u001b[38;5;28;01mimport\u001b[39;00m \u001b[38;5;21;01mpandas\u001b[39;00m \u001b[38;5;28;01mas\u001b[39;00m \u001b[38;5;21;01mpd\u001b[39;00m \n\u001b[0;32m      2\u001b[0m \u001b[38;5;28;01mimport\u001b[39;00m \u001b[38;5;21;01mnumpy\u001b[39;00m \u001b[38;5;28;01mas\u001b[39;00m \u001b[38;5;21;01mnp\u001b[39;00m\n\u001b[1;32m----> 4\u001b[0m \u001b[38;5;28;01mfrom\u001b[39;00m \u001b[38;5;21;01msklearn\u001b[39;00m\u001b[38;5;21;01m.\u001b[39;00m\u001b[38;5;21;01mdatasets\u001b[39;00m \u001b[38;5;28;01mimport\u001b[39;00m load_boston\n\u001b[0;32m      5\u001b[0m \u001b[38;5;28;01mfrom\u001b[39;00m \u001b[38;5;21;01msklearn\u001b[39;00m\u001b[38;5;21;01m.\u001b[39;00m\u001b[38;5;21;01mpreprocessing\u001b[39;00m \u001b[38;5;28;01mimport\u001b[39;00m StandardScaler\n\u001b[0;32m      6\u001b[0m \u001b[38;5;28;01mfrom\u001b[39;00m \u001b[38;5;21;01msklearn\u001b[39;00m\u001b[38;5;21;01m.\u001b[39;00m\u001b[38;5;21;01mmodel_selection\u001b[39;00m \u001b[38;5;28;01mimport\u001b[39;00m train_test_split\n",
      "File \u001b[1;32m~\\anaconda3\\lib\\site-packages\\sklearn\\datasets\\__init__.py:156\u001b[0m, in \u001b[0;36m__getattr__\u001b[1;34m(name)\u001b[0m\n\u001b[0;32m    105\u001b[0m \u001b[38;5;28;01mif\u001b[39;00m name \u001b[38;5;241m==\u001b[39m \u001b[38;5;124m\"\u001b[39m\u001b[38;5;124mload_boston\u001b[39m\u001b[38;5;124m\"\u001b[39m:\n\u001b[0;32m    106\u001b[0m     msg \u001b[38;5;241m=\u001b[39m textwrap\u001b[38;5;241m.\u001b[39mdedent(\n\u001b[0;32m    107\u001b[0m \u001b[38;5;250m        \u001b[39m\u001b[38;5;124;03m\"\"\"\u001b[39;00m\n\u001b[0;32m    108\u001b[0m \u001b[38;5;124;03m        `load_boston` has been removed from scikit-learn since version 1.2.\u001b[39;00m\n\u001b[1;32m   (...)\u001b[0m\n\u001b[0;32m    154\u001b[0m \u001b[38;5;124;03m        \"\"\"\u001b[39;00m\n\u001b[0;32m    155\u001b[0m     )\n\u001b[1;32m--> 156\u001b[0m     \u001b[38;5;28;01mraise\u001b[39;00m \u001b[38;5;167;01mImportError\u001b[39;00m(msg)\n\u001b[0;32m    157\u001b[0m \u001b[38;5;28;01mtry\u001b[39;00m:\n\u001b[0;32m    158\u001b[0m     \u001b[38;5;28;01mreturn\u001b[39;00m \u001b[38;5;28mglobals\u001b[39m()[name]\n",
      "\u001b[1;31mImportError\u001b[0m: \n`load_boston` has been removed from scikit-learn since version 1.2.\n\nThe Boston housing prices dataset has an ethical problem: as\ninvestigated in [1], the authors of this dataset engineered a\nnon-invertible variable \"B\" assuming that racial self-segregation had a\npositive impact on house prices [2]. Furthermore the goal of the\nresearch that led to the creation of this dataset was to study the\nimpact of air quality but it did not give adequate demonstration of the\nvalidity of this assumption.\n\nThe scikit-learn maintainers therefore strongly discourage the use of\nthis dataset unless the purpose of the code is to study and educate\nabout ethical issues in data science and machine learning.\n\nIn this special case, you can fetch the dataset from the original\nsource::\n\n    import pandas as pd\n    import numpy as np\n\n    data_url = \"http://lib.stat.cmu.edu/datasets/boston\"\n    raw_df = pd.read_csv(data_url, sep=\"\\s+\", skiprows=22, header=None)\n    data = np.hstack([raw_df.values[::2, :], raw_df.values[1::2, :2]])\n    target = raw_df.values[1::2, 2]\n\nAlternative datasets include the California housing dataset and the\nAmes housing dataset. You can load the datasets as follows::\n\n    from sklearn.datasets import fetch_california_housing\n    housing = fetch_california_housing()\n\nfor the California housing dataset and::\n\n    from sklearn.datasets import fetch_openml\n    housing = fetch_openml(name=\"house_prices\", as_frame=True)\n\nfor the Ames housing dataset.\n\n[1] M Carlisle.\n\"Racist data destruction?\"\n<https://medium.com/@docintangible/racist-data-destruction-113e3eff54a8>\n\n[2] Harrison Jr, David, and Daniel L. Rubinfeld.\n\"Hedonic housing prices and the demand for clean air.\"\nJournal of environmental economics and management 5.1 (1978): 81-102.\n<https://www.researchgate.net/publication/4974606_Hedonic_housing_prices_and_the_demand_for_clean_air>\n"
     ]
    }
   ],
   "source": [
    "import pandas as pd \n",
    "import numpy as np\n",
    "\n",
    "from sklearn.datasets import load_boston\n",
    "from sklearn.preprocessing import StandardScaler\n",
    "from sklearn.model_selection import train_test_split\n",
    "from tensorflow.keras.models import Sequential\n",
    "from tensorflow.keras.layers import Dense \n",
    "from tensorflow.keras.optimizers import Adam\n",
    "\n",
    "\n",
    "import warnings \n",
    "warnings.filterwarnings(\"ignore\")"
   ]
  },
  {
   "cell_type": "code",
   "execution_count": 5,
   "id": "5a20f82a",
   "metadata": {},
   "outputs": [
    {
     "ename": "NameError",
     "evalue": "name 'load_boston' is not defined",
     "output_type": "error",
     "traceback": [
      "\u001b[1;31m---------------------------------------------------------------------------\u001b[0m",
      "\u001b[1;31mNameError\u001b[0m                                 Traceback (most recent call last)",
      "Cell \u001b[1;32mIn[5], line 1\u001b[0m\n\u001b[1;32m----> 1\u001b[0m boston \u001b[38;5;241m=\u001b[39m \u001b[43mload_boston\u001b[49m()\n",
      "\u001b[1;31mNameError\u001b[0m: name 'load_boston' is not defined"
     ]
    }
   ],
   "source": [
    " \n",
    "boston = load_boston()"
   ]
  },
  {
   "cell_type": "code",
   "execution_count": 18,
   "id": "3846f291",
   "metadata": {},
   "outputs": [
    {
     "data": {
      "text/plain": [
       "array([24. , 21.6, 34.7, 33.4, 36.2, 28.7, 22.9, 27.1, 16.5, 18.9, 15. ,\n",
       "       18.9, 21.7, 20.4, 18.2, 19.9, 23.1, 17.5, 20.2, 18.2, 13.6, 19.6,\n",
       "       15.2, 14.5, 15.6, 13.9, 16.6, 14.8, 18.4, 21. , 12.7, 14.5, 13.2,\n",
       "       13.1, 13.5, 18.9, 20. , 21. , 24.7, 30.8, 34.9, 26.6, 25.3, 24.7,\n",
       "       21.2, 19.3, 20. , 16.6, 14.4, 19.4, 19.7, 20.5, 25. , 23.4, 18.9,\n",
       "       35.4, 24.7, 31.6, 23.3, 19.6, 18.7, 16. , 22.2, 25. , 33. , 23.5,\n",
       "       19.4, 22. , 17.4, 20.9, 24.2, 21.7, 22.8, 23.4, 24.1, 21.4, 20. ,\n",
       "       20.8, 21.2, 20.3, 28. , 23.9, 24.8, 22.9, 23.9, 26.6, 22.5, 22.2,\n",
       "       23.6, 28.7, 22.6, 22. , 22.9, 25. , 20.6, 28.4, 21.4, 38.7, 43.8,\n",
       "       33.2, 27.5, 26.5, 18.6, 19.3, 20.1, 19.5, 19.5, 20.4, 19.8, 19.4,\n",
       "       21.7, 22.8, 18.8, 18.7, 18.5, 18.3, 21.2, 19.2, 20.4, 19.3, 22. ,\n",
       "       20.3, 20.5, 17.3, 18.8, 21.4, 15.7, 16.2, 18. , 14.3, 19.2, 19.6,\n",
       "       23. , 18.4, 15.6, 18.1, 17.4, 17.1, 13.3, 17.8, 14. , 14.4, 13.4,\n",
       "       15.6, 11.8, 13.8, 15.6, 14.6, 17.8, 15.4, 21.5, 19.6, 15.3, 19.4,\n",
       "       17. , 15.6, 13.1, 41.3, 24.3, 23.3, 27. , 50. , 50. , 50. , 22.7,\n",
       "       25. , 50. , 23.8, 23.8, 22.3, 17.4, 19.1, 23.1, 23.6, 22.6, 29.4,\n",
       "       23.2, 24.6, 29.9, 37.2, 39.8, 36.2, 37.9, 32.5, 26.4, 29.6, 50. ,\n",
       "       32. , 29.8, 34.9, 37. , 30.5, 36.4, 31.1, 29.1, 50. , 33.3, 30.3,\n",
       "       34.6, 34.9, 32.9, 24.1, 42.3, 48.5, 50. , 22.6, 24.4, 22.5, 24.4,\n",
       "       20. , 21.7, 19.3, 22.4, 28.1, 23.7, 25. , 23.3, 28.7, 21.5, 23. ,\n",
       "       26.7, 21.7, 27.5, 30.1, 44.8, 50. , 37.6, 31.6, 46.7, 31.5, 24.3,\n",
       "       31.7, 41.7, 48.3, 29. , 24. , 25.1, 31.5, 23.7, 23.3, 22. , 20.1,\n",
       "       22.2, 23.7, 17.6, 18.5, 24.3, 20.5, 24.5, 26.2, 24.4, 24.8, 29.6,\n",
       "       42.8, 21.9, 20.9, 44. , 50. , 36. , 30.1, 33.8, 43.1, 48.8, 31. ,\n",
       "       36.5, 22.8, 30.7, 50. , 43.5, 20.7, 21.1, 25.2, 24.4, 35.2, 32.4,\n",
       "       32. , 33.2, 33.1, 29.1, 35.1, 45.4, 35.4, 46. , 50. , 32.2, 22. ,\n",
       "       20.1, 23.2, 22.3, 24.8, 28.5, 37.3, 27.9, 23.9, 21.7, 28.6, 27.1,\n",
       "       20.3, 22.5, 29. , 24.8, 22. , 26.4, 33.1, 36.1, 28.4, 33.4, 28.2,\n",
       "       22.8, 20.3, 16.1, 22.1, 19.4, 21.6, 23.8, 16.2, 17.8, 19.8, 23.1,\n",
       "       21. , 23.8, 23.1, 20.4, 18.5, 25. , 24.6, 23. , 22.2, 19.3, 22.6,\n",
       "       19.8, 17.1, 19.4, 22.2, 20.7, 21.1, 19.5, 18.5, 20.6, 19. , 18.7,\n",
       "       32.7, 16.5, 23.9, 31.2, 17.5, 17.2, 23.1, 24.5, 26.6, 22.9, 24.1,\n",
       "       18.6, 30.1, 18.2, 20.6, 17.8, 21.7, 22.7, 22.6, 25. , 19.9, 20.8,\n",
       "       16.8, 21.9, 27.5, 21.9, 23.1, 50. , 50. , 50. , 50. , 50. , 13.8,\n",
       "       13.8, 15. , 13.9, 13.3, 13.1, 10.2, 10.4, 10.9, 11.3, 12.3,  8.8,\n",
       "        7.2, 10.5,  7.4, 10.2, 11.5, 15.1, 23.2,  9.7, 13.8, 12.7, 13.1,\n",
       "       12.5,  8.5,  5. ,  6.3,  5.6,  7.2, 12.1,  8.3,  8.5,  5. , 11.9,\n",
       "       27.9, 17.2, 27.5, 15. , 17.2, 17.9, 16.3,  7. ,  7.2,  7.5, 10.4,\n",
       "        8.8,  8.4, 16.7, 14.2, 20.8, 13.4, 11.7,  8.3, 10.2, 10.9, 11. ,\n",
       "        9.5, 14.5, 14.1, 16.1, 14.3, 11.7, 13.4,  9.6,  8.7,  8.4, 12.8,\n",
       "       10.5, 17.1, 18.4, 15.4, 10.8, 11.8, 14.9, 12.6, 14.1, 13. , 13.4,\n",
       "       15.2, 16.1, 17.8, 14.9, 14.1, 12.7, 13.5, 14.9, 20. , 16.4, 17.7,\n",
       "       19.5, 20.2, 21.4, 19.9, 19. , 19.1, 19.1, 20.1, 19.9, 19.6, 23.2,\n",
       "       29.8, 13.8, 13.3, 16.7, 12. , 14.6, 21.4, 23. , 23.7, 25. , 21.8,\n",
       "       20.6, 21.2, 19.1, 20.6, 15.2,  7. ,  8.1, 13.6, 20.1, 21.8, 24.5,\n",
       "       23.1, 19.7, 18.3, 21.2, 17.5, 16.8, 22.4, 20.6, 23.9, 22. , 11.9])"
      ]
     },
     "execution_count": 18,
     "metadata": {},
     "output_type": "execute_result"
    }
   ],
   "source": [
    "X = boston.data\n",
    "y = boston.target\n",
    "X\n",
    "y"
   ]
  },
  {
   "cell_type": "code",
   "execution_count": 21,
   "id": "5ddc43b0",
   "metadata": {},
   "outputs": [],
   "source": [
    "scaler = StandardScaler()\n",
    "X = scaler.fit_transform(X)\n"
   ]
  },
  {
   "cell_type": "code",
   "execution_count": 23,
   "id": "d40a8fb7",
   "metadata": {},
   "outputs": [],
   "source": [
    "x_train, x_test, y_tarin, y_test = train_test_split(X, y, random_state=42, test_size=0.2)"
   ]
  },
  {
   "cell_type": "code",
   "execution_count": 25,
   "id": "63b3316b",
   "metadata": {},
   "outputs": [],
   "source": [
    "model  = Sequential()\n",
    "model.add(Dense(1, input_shape = (x_train.shape[1],)))"
   ]
  },
  {
   "cell_type": "code",
   "execution_count": 26,
   "id": "c266a890",
   "metadata": {},
   "outputs": [],
   "source": [
    "model.compile(loss = 'mean_squared_error', optimizer = Adam(learning_rate=0.01) )"
   ]
  },
  {
   "cell_type": "code",
   "execution_count": 27,
   "id": "5f6b375a",
   "metadata": {},
   "outputs": [
    {
     "name": "stdout",
     "output_type": "stream",
     "text": [
      "Epoch 1/100\n",
      "13/13 [==============================] - 1s 3ms/step - loss: 600.7778\n",
      "Epoch 2/100\n",
      "13/13 [==============================] - 0s 3ms/step - loss: 585.3657\n",
      "Epoch 3/100\n",
      "13/13 [==============================] - 0s 2ms/step - loss: 571.3459\n",
      "Epoch 4/100\n",
      "13/13 [==============================] - 0s 2ms/step - loss: 559.5516\n",
      "Epoch 5/100\n",
      "13/13 [==============================] - 0s 2ms/step - loss: 548.5787\n",
      "Epoch 6/100\n",
      "13/13 [==============================] - 0s 1ms/step - loss: 538.6627\n",
      "Epoch 7/100\n",
      "13/13 [==============================] - 0s 2ms/step - loss: 529.7207\n",
      "Epoch 8/100\n",
      "13/13 [==============================] - 0s 1ms/step - loss: 521.0894\n",
      "Epoch 9/100\n",
      "13/13 [==============================] - 0s 1ms/step - loss: 513.1730\n",
      "Epoch 10/100\n",
      "13/13 [==============================] - 0s 2ms/step - loss: 505.4979\n",
      "Epoch 11/100\n",
      "13/13 [==============================] - 0s 1ms/step - loss: 497.8780\n",
      "Epoch 12/100\n",
      "13/13 [==============================] - 0s 3ms/step - loss: 490.8565\n",
      "Epoch 13/100\n",
      "13/13 [==============================] - 0s 2ms/step - loss: 483.8122\n",
      "Epoch 14/100\n",
      "13/13 [==============================] - 0s 1ms/step - loss: 477.0478\n",
      "Epoch 15/100\n",
      "13/13 [==============================] - 0s 1ms/step - loss: 470.3511\n",
      "Epoch 16/100\n",
      "13/13 [==============================] - 0s 3ms/step - loss: 463.9131\n",
      "Epoch 17/100\n",
      "13/13 [==============================] - 0s 1ms/step - loss: 457.3907\n",
      "Epoch 18/100\n",
      "13/13 [==============================] - 0s 1ms/step - loss: 451.2144\n",
      "Epoch 19/100\n",
      "13/13 [==============================] - 0s 2ms/step - loss: 445.0444\n",
      "Epoch 20/100\n",
      "13/13 [==============================] - 0s 2ms/step - loss: 438.8274\n",
      "Epoch 21/100\n",
      "13/13 [==============================] - 0s 1ms/step - loss: 433.1677\n",
      "Epoch 22/100\n",
      "13/13 [==============================] - 0s 3ms/step - loss: 427.1529\n",
      "Epoch 23/100\n",
      "13/13 [==============================] - 0s 3ms/step - loss: 421.4397\n",
      "Epoch 24/100\n",
      "13/13 [==============================] - 0s 1ms/step - loss: 415.8783\n",
      "Epoch 25/100\n",
      "13/13 [==============================] - 0s 1ms/step - loss: 410.2843\n",
      "Epoch 26/100\n",
      "13/13 [==============================] - 0s 1ms/step - loss: 404.9785\n",
      "Epoch 27/100\n",
      "13/13 [==============================] - 0s 1ms/step - loss: 399.5201\n",
      "Epoch 28/100\n",
      "13/13 [==============================] - 0s 3ms/step - loss: 394.1414\n",
      "Epoch 29/100\n",
      "13/13 [==============================] - 0s 3ms/step - loss: 389.0103\n",
      "Epoch 30/100\n",
      "13/13 [==============================] - 0s 2ms/step - loss: 383.9816\n",
      "Epoch 31/100\n",
      "13/13 [==============================] - 0s 1ms/step - loss: 378.8524\n",
      "Epoch 32/100\n",
      "13/13 [==============================] - 0s 2ms/step - loss: 373.7357\n",
      "Epoch 33/100\n",
      "13/13 [==============================] - 0s 3ms/step - loss: 368.9716\n",
      "Epoch 34/100\n",
      "13/13 [==============================] - 0s 2ms/step - loss: 364.0726\n",
      "Epoch 35/100\n",
      "13/13 [==============================] - 0s 1ms/step - loss: 359.3826\n",
      "Epoch 36/100\n",
      "13/13 [==============================] - 0s 3ms/step - loss: 354.9668\n",
      "Epoch 37/100\n",
      "13/13 [==============================] - 0s 2ms/step - loss: 350.0809\n",
      "Epoch 38/100\n",
      "13/13 [==============================] - 0s 3ms/step - loss: 345.5113\n",
      "Epoch 39/100\n",
      "13/13 [==============================] - 0s 2ms/step - loss: 341.2407\n",
      "Epoch 40/100\n",
      "13/13 [==============================] - 0s 2ms/step - loss: 337.1320\n",
      "Epoch 41/100\n",
      "13/13 [==============================] - 0s 2ms/step - loss: 332.6388\n",
      "Epoch 42/100\n",
      "13/13 [==============================] - 0s 1ms/step - loss: 328.0685\n",
      "Epoch 43/100\n",
      "13/13 [==============================] - 0s 2ms/step - loss: 323.8960\n",
      "Epoch 44/100\n",
      "13/13 [==============================] - 0s 1ms/step - loss: 319.6453\n",
      "Epoch 45/100\n",
      "13/13 [==============================] - 0s 3ms/step - loss: 315.5666\n",
      "Epoch 46/100\n",
      "13/13 [==============================] - 0s 1ms/step - loss: 311.4070\n",
      "Epoch 47/100\n",
      "13/13 [==============================] - 0s 3ms/step - loss: 307.4952\n",
      "Epoch 48/100\n",
      "13/13 [==============================] - 0s 3ms/step - loss: 303.5231\n",
      "Epoch 49/100\n",
      "13/13 [==============================] - 0s 1ms/step - loss: 299.5320\n",
      "Epoch 50/100\n",
      "13/13 [==============================] - 0s 1ms/step - loss: 295.6938\n",
      "Epoch 51/100\n",
      "13/13 [==============================] - 0s 3ms/step - loss: 291.8981\n",
      "Epoch 52/100\n",
      "13/13 [==============================] - 0s 1ms/step - loss: 288.0674\n",
      "Epoch 53/100\n",
      "13/13 [==============================] - 0s 3ms/step - loss: 284.3542\n",
      "Epoch 54/100\n",
      "13/13 [==============================] - 0s 1ms/step - loss: 280.6865\n",
      "Epoch 55/100\n",
      "13/13 [==============================] - 0s 1ms/step - loss: 277.0351\n",
      "Epoch 56/100\n",
      "13/13 [==============================] - 0s 2ms/step - loss: 273.5269\n",
      "Epoch 57/100\n",
      "13/13 [==============================] - 0s 3ms/step - loss: 269.9695\n",
      "Epoch 58/100\n",
      "13/13 [==============================] - 0s 887us/step - loss: 266.3839\n",
      "Epoch 59/100\n",
      "13/13 [==============================] - 0s 2ms/step - loss: 262.9783\n",
      "Epoch 60/100\n",
      "13/13 [==============================] - 0s 2ms/step - loss: 259.5837\n",
      "Epoch 61/100\n",
      "13/13 [==============================] - 0s 1ms/step - loss: 256.1570\n",
      "Epoch 62/100\n",
      "13/13 [==============================] - 0s 1ms/step - loss: 252.9310\n",
      "Epoch 63/100\n",
      "13/13 [==============================] - 0s 1ms/step - loss: 249.5007\n",
      "Epoch 64/100\n",
      "13/13 [==============================] - 0s 1ms/step - loss: 246.2632\n",
      "Epoch 65/100\n",
      "13/13 [==============================] - 0s 2ms/step - loss: 243.0781\n",
      "Epoch 66/100\n",
      "13/13 [==============================] - 0s 1ms/step - loss: 239.8367\n",
      "Epoch 67/100\n",
      "13/13 [==============================] - 0s 2ms/step - loss: 236.7951\n",
      "Epoch 68/100\n",
      "13/13 [==============================] - 0s 2ms/step - loss: 233.8429\n",
      "Epoch 69/100\n",
      "13/13 [==============================] - 0s 2ms/step - loss: 230.4741\n",
      "Epoch 70/100\n",
      "13/13 [==============================] - 0s 2ms/step - loss: 227.4611\n",
      "Epoch 71/100\n",
      "13/13 [==============================] - 0s 2ms/step - loss: 224.4786\n",
      "Epoch 72/100\n",
      "13/13 [==============================] - 0s 3ms/step - loss: 221.4738\n",
      "Epoch 73/100\n",
      "13/13 [==============================] - 0s 3ms/step - loss: 218.5613\n",
      "Epoch 74/100\n",
      "13/13 [==============================] - 0s 3ms/step - loss: 215.6761\n",
      "Epoch 75/100\n",
      "13/13 [==============================] - 0s 2ms/step - loss: 212.7726\n",
      "Epoch 76/100\n",
      "13/13 [==============================] - 0s 2ms/step - loss: 209.9481\n",
      "Epoch 77/100\n",
      "13/13 [==============================] - 0s 3ms/step - loss: 207.1296\n",
      "Epoch 78/100\n",
      "13/13 [==============================] - 0s 2ms/step - loss: 204.3158\n",
      "Epoch 79/100\n",
      "13/13 [==============================] - 0s 2ms/step - loss: 201.6411\n",
      "Epoch 80/100\n",
      "13/13 [==============================] - 0s 2ms/step - loss: 198.8613\n",
      "Epoch 81/100\n",
      "13/13 [==============================] - 0s 1ms/step - loss: 196.1912\n",
      "Epoch 82/100\n",
      "13/13 [==============================] - 0s 2ms/step - loss: 193.5478\n",
      "Epoch 83/100\n",
      "13/13 [==============================] - 0s 1ms/step - loss: 190.9042\n",
      "Epoch 84/100\n",
      "13/13 [==============================] - 0s 3ms/step - loss: 188.3781\n",
      "Epoch 85/100\n",
      "13/13 [==============================] - 0s 1ms/step - loss: 185.8282\n",
      "Epoch 86/100\n",
      "13/13 [==============================] - 0s 2ms/step - loss: 183.4161\n",
      "Epoch 87/100\n",
      "13/13 [==============================] - 0s 1ms/step - loss: 180.8168\n",
      "Epoch 88/100\n",
      "13/13 [==============================] - 0s 2ms/step - loss: 178.4095\n",
      "Epoch 89/100\n",
      "13/13 [==============================] - 0s 1ms/step - loss: 175.9873\n",
      "Epoch 90/100\n",
      "13/13 [==============================] - 0s 2ms/step - loss: 173.5341\n",
      "Epoch 91/100\n",
      "13/13 [==============================] - 0s 3ms/step - loss: 171.1408\n",
      "Epoch 92/100\n",
      "13/13 [==============================] - 0s 2ms/step - loss: 168.7500\n",
      "Epoch 93/100\n",
      "13/13 [==============================] - 0s 1ms/step - loss: 166.4463\n",
      "Epoch 94/100\n",
      "13/13 [==============================] - 0s 2ms/step - loss: 164.1299\n",
      "Epoch 95/100\n",
      "13/13 [==============================] - 0s 2ms/step - loss: 161.9165\n",
      "Epoch 96/100\n",
      "13/13 [==============================] - 0s 1ms/step - loss: 159.6185\n",
      "Epoch 97/100\n",
      "13/13 [==============================] - 0s 2ms/step - loss: 157.4051\n",
      "Epoch 98/100\n",
      "13/13 [==============================] - 0s 2ms/step - loss: 155.2336\n",
      "Epoch 99/100\n",
      "13/13 [==============================] - 0s 1ms/step - loss: 153.0857\n",
      "Epoch 100/100\n",
      "13/13 [==============================] - 0s 3ms/step - loss: 150.9117\n"
     ]
    },
    {
     "data": {
      "text/plain": [
       "<keras.callbacks.History at 0x1db5016eaf0>"
      ]
     },
     "execution_count": 27,
     "metadata": {},
     "output_type": "execute_result"
    }
   ],
   "source": [
    "model.fit(x_train, y_tarin, batch_size=32, epochs=100, verbose=1)"
   ]
  },
  {
   "cell_type": "code",
   "execution_count": 7,
   "id": "f8cd4ba3",
   "metadata": {},
   "outputs": [
    {
     "ename": "NameError",
     "evalue": "name 'model' is not defined",
     "output_type": "error",
     "traceback": [
      "\u001b[1;31m---------------------------------------------------------------------------\u001b[0m",
      "\u001b[1;31mNameError\u001b[0m                                 Traceback (most recent call last)",
      "Cell \u001b[1;32mIn[7], line 1\u001b[0m\n\u001b[1;32m----> 1\u001b[0m loss \u001b[38;5;241m=\u001b[39m \u001b[43mmodel\u001b[49m\u001b[38;5;241m.\u001b[39mevaluate(x_test, y_test, verbose\u001b[38;5;241m=\u001b[39m\u001b[38;5;241m1\u001b[39m)\n\u001b[0;32m      2\u001b[0m \u001b[38;5;28mprint\u001b[39m(\u001b[38;5;124mf\u001b[39m\u001b[38;5;124m'\u001b[39m\u001b[38;5;124mMean Squred Error = \u001b[39m\u001b[38;5;132;01m{\u001b[39;00mloss\u001b[38;5;132;01m}\u001b[39;00m\u001b[38;5;124m'\u001b[39m)\n",
      "\u001b[1;31mNameError\u001b[0m: name 'model' is not defined"
     ]
    }
   ],
   "source": [
    "loss = model.evaluate(x_test, y_test, verbose=1)\n",
    "print(f'Mean Squred Error = {loss}')"
   ]
  },
  {
   "cell_type": "code",
   "execution_count": 29,
   "id": "ce688658",
   "metadata": {},
   "outputs": [
    {
     "name": "stdout",
     "output_type": "stream",
     "text": [
      "4/4 [==============================] - 0s 3ms/step\n"
     ]
    }
   ],
   "source": [
    "y_pred  = model.predict(x_test)"
   ]
  },
  {
   "cell_type": "code",
   "execution_count": 33,
   "id": "93909b34",
   "metadata": {},
   "outputs": [
    {
     "name": "stdout",
     "output_type": "stream",
     "text": [
      "11.99259214120753\n"
     ]
    }
   ],
   "source": [
    "from sklearn.metrics import mean_absolute_error\n",
    "print(mean_absolute_error(y_test, y_pred ))"
   ]
  },
  {
   "cell_type": "code",
   "execution_count": 34,
   "id": "29efc8e1",
   "metadata": {},
   "outputs": [
    {
     "data": {
      "image/png": "[encoded data removed]",
      "text/plain": [
       "<Figure size 432x288 with 1 Axes>"
      ]
     },
     "metadata": {
      "needs_background": "light"
     },
     "output_type": "display_data"
    }
   ],
   "source": [
    "import matplotlib.pyplot as plt\n",
    "\n",
    "# Plotting the predicted vs actual values\n",
    "plt.scatter(y_test, y_pred, color='b', alpha=0.5)\n",
    "plt.plot([y_test.min(), y_test.max()], [y_test.min(), y_test.max()], 'r--', lw=2)\n",
    "plt.xlabel('Actual Values')\n",
    "plt.ylabel('Predicted Values')\n",
    "plt.title('Actual vs Predicted Values')\n",
    "plt.show()"
   ]
  },
  {
   "cell_type": "code",
   "execution_count": null,
   "id": "9cb0cf95",
   "metadata": {},
   "outputs": [],
   "source": []
  }
 ],
 "metadata": {
  "kernelspec": {
   "display_name": "Python 3 (ipykernel)",
   "language": "python",
   "name": "python3"
  },
  "language_info": {
   "codemirror_mode": {
    "name": "ipython",
    "version": 3
   },
   "file_extension": ".py",
   "mimetype": "text/x-python",
   "name": "python",
   "nbconvert_exporter": "python",
   "pygments_lexer": "ipython3",
   "version": "3.9.12"
  }
 },
 "nbformat": 4,
 "nbformat_minor": 5
}
